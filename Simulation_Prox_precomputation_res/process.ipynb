{
 "cells": [
  {
   "cell_type": "code",
   "execution_count": 5,
   "metadata": {},
   "outputs": [],
   "source": [
    "from scipy.io import loadmat"
   ]
  },
  {
   "cell_type": "code",
   "execution_count": 6,
   "metadata": {},
   "outputs": [],
   "source": [
    "import numpy as np\n",
    "p_list = [[10,10,5],[15, 15, 5],\n",
    "    [20, 20, 5],\n",
    "    [25, 25 ,5],\n",
    "    [30, 30 ,5],\n",
    "    [35,35 ,5],\n",
    "    [40,40, 5],]\n",
    "p_list = np.array(p_list)\n",
    "# epsilon_list = [0.01, 0.05, 0.1, 0.5, 1.0, 10.0]\n",
    "epsilon_list = [0.005, 0.003, 0.001, 0.0005, 0.0003, 0.0001]\n",
    "\n",
    "before_computation_dic = {}\n",
    "before_iteration_dic = {}\n",
    "after_time_dic = {}\n",
    "after_MSE_dic = {}\n",
    "after_EE_dic = {}\n",
    "\n",
    "for idx, _ in enumerate(p_list):\n",
    "    data = loadmat(f'Group{idx+1}.mat')['Res']\n",
    "    before_computation_dic[idx+1] = data[:,0]\n",
    "    before_iteration_dic[idx+1] = data[:,1]\n",
    "    \n",
    "    for i, _ in enumerate(epsilon_list):\n",
    "        data = loadmat(f'Prox_ROC_g{idx+1}_epsilon{i+1}.mat')['Prox_res'][0][0]\n",
    "        # print(data[0][0][0])\n",
    "        if idx+1 not in after_time_dic:\n",
    "            after_time_dic[idx+1] = [data[0][0][0]]\n",
    "            after_MSE_dic[idx+1] = [data[1][0][0]]\n",
    "            after_EE_dic[idx+1] = [data[2][0][0]]\n",
    "        else:\n",
    "            after_time_dic[idx+1].append(data[0][0][0])\n",
    "            after_MSE_dic[idx+1].append(data[1][0][0])\n",
    "            after_EE_dic[idx+1].append(data[2][0][0])\n"
   ]
  },
  {
   "cell_type": "code",
   "execution_count": 7,
   "metadata": {},
   "outputs": [
    {
     "data": {
      "text/plain": [
       "array([0.0113656, 0.0129064, 0.0128836, 0.0128154, 0.012844 , 0.0128656])"
      ]
     },
     "execution_count": 7,
     "metadata": {},
     "output_type": "execute_result"
    }
   ],
   "source": [
    "before_computation_dic[1]"
   ]
  },
  {
   "cell_type": "code",
   "execution_count": 8,
   "metadata": {},
   "outputs": [],
   "source": [
    "import pandas as pd\n",
    "group_list = np.arange(10)\n",
    "wrtier = pd.ExcelWriter('Simulation_epsilon_exp_smaller.xlsx')\n",
    "pd.DataFrame(before_computation_dic,index=epsilon_list).to_excel(wrtier, sheet_name='Precomputation time(in CV)')\n",
    "pd.DataFrame(before_iteration_dic,index=epsilon_list).to_excel(wrtier, sheet_name='Iteration time(per fold)')\n",
    "pd.DataFrame(after_time_dic,index=epsilon_list).to_excel(wrtier, sheet_name='Computation time(after CV)')\n",
    "pd.DataFrame(after_MSE_dic,index=epsilon_list).to_excel(wrtier, sheet_name='Total MSE(after CV)')\n",
    "pd.DataFrame(after_EE_dic,index=epsilon_list).to_excel(wrtier, sheet_name='Total EE(after CV)')\n",
    "wrtier.save()"
   ]
  }
 ],
 "metadata": {
  "kernelspec": {
   "display_name": "start",
   "language": "python",
   "name": "python3"
  },
  "language_info": {
   "codemirror_mode": {
    "name": "ipython",
    "version": 3
   },
   "file_extension": ".py",
   "mimetype": "text/x-python",
   "name": "python",
   "nbconvert_exporter": "python",
   "pygments_lexer": "ipython3",
   "version": "3.7.13"
  },
  "orig_nbformat": 4
 },
 "nbformat": 4,
 "nbformat_minor": 2
}
