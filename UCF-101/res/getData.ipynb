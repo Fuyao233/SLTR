{
 "cells": [
  {
   "cell_type": "code",
   "execution_count": null,
   "metadata": {},
   "outputs": [],
   "source": [
    "from scipy.io import loadmat\n",
    "import os "
   ]
  },
  {
   "cell_type": "code",
   "execution_count": null,
   "metadata": {},
   "outputs": [],
   "source": [
    "data_dir = {\n",
    "    'Prox' : [],\n",
    "    'Remur': [],\n",
    "    'SURF': []\n",
    "}\n",
    "precomputation_time = []"
   ]
  },
  {
   "cell_type": "code",
   "execution_count": null,
   "metadata": {},
   "outputs": [],
   "source": [
    "alg_list = ['Prox_ROC', 'Remur_ROC', 'SURF_ROC']\n",
    "for dir in os.listdir():\n",
    "    if dir.startswith('G'):\n",
    "        if os.path.isdir(dir):\n",
    "            for alg in alg_list:\n",
    "                data = loadmat(os.path.join(dir, alg + '.mat'))\n",
    "                if alg is 'Prox_ROC':\n",
    "                    data_dir[alg.split('_')[0]].append(data[list(data.keys())[-1]][0][0][9][0][1])\n",
    "                    precomputation_time.append(data[list(data.keys())[-1]][0][0][9][0][0])\n",
    "                else:\n",
    "                    data_dir[alg.split('_')[0]].append(data[list(data.keys())[-1]][0][0][8][0][0])"
   ]
  },
  {
   "cell_type": "code",
   "execution_count": null,
   "metadata": {},
   "outputs": [],
   "source": [
    "Prox_Remur_dic = {\n",
    "    \"Precomputation in CV(s)\": [],\n",
    "    \"Iteration in CV(s)\":[],\n",
    "    \"Precomputation in test(s)\": [],\n",
    "    \"Iteration in test(s)\": [],\n",
    "    \"AUC\": []\n",
    "}\n",
    "\n",
    "Remur_dic = {\n",
    "    \"test_time(s)\": [],\n",
    "    \"cv_time(s)\":[],\n",
    "    \"AUC\": []\n",
    "}\n",
    "\n",
    "SURF_dic = {\n",
    "    \"test_time(s)\": [],\n",
    "    \"cv_time(s)\": [],\n",
    "    \"AUC\": []\n",
    "}\n",
    "\n",
    "ENet_dic = {\n",
    "    \"AUC\":[],\n",
    "    \"test_time(s)\":[]\n",
    "}\n",
    "\n",
    "Lasso_dic = {\n",
    "    \"AUC\":[],\n",
    "    \"test_time(s)\":[]\n",
    "}\n",
    "\n",
    "alg_list = ['Prox_ROC', 'Remur_ROC', 'SURF_ROC', 'Lasso_ROC', 'ENet_ROC']\n",
    "for dir in os.listdir():\n",
    "    if dir.startswith('G'):\n",
    "        if os.path.isdir(dir):\n",
    "            for alg in alg_list:\n",
    "                data = loadmat(os.path.join(dir, alg + '.mat'))\n",
    "                if alg == 'Prox_ROC':\n",
    "                    Prox_Remur_dic['AUC'].append(data['Prox_ROC'][0][0][3][0][0])\n",
    "                    Prox_Remur_dic['Precomputation in test(s)'].append(data['Prox_ROC'][0][0][-3][0][0])\n",
    "                    Prox_Remur_dic['Iteration in test(s)'].append(data['Prox_ROC'][0][0][-3][0][1])\n",
    "                    Prox_Remur_dic['Precomputation in CV(s)'].append(data['Prox_ROC'][0][0][-4][0][0])\n",
    "                    Prox_Remur_dic['Iteration in CV(s)'].append(data['Prox_ROC'][0][0][-4][0][1])\n",
    "                \n",
    "                if alg == 'Remur_ROC':\n",
    "                    Remur_dic['AUC'].append(data['Remur_ROC'][0][0][3][0][0])\n",
    "                    Remur_dic['cv_time(s)'].append(data['Remur_ROC'][0][0][-2][0][0])\n",
    "                    Remur_dic['test_time(s)'].append(data['Remur_ROC'][0][0][-3][0][0])\n",
    "                if alg == 'SURF_ROC':\n",
    "                    SURF_dic['AUC'].append(data['SURF_Roc'][0][0][3][0][0])\n",
    "                    SURF_dic['cv_time(s)'].append(data['SURF_Roc'][0][0][-3][0][0])\n",
    "                    SURF_dic['test_time(s)'].append(data['SURF_Roc'][0][0][-2][0][0])\n",
    "                    \n",
    "                    \n",
    "                if alg == 'ENet_ROC':\n",
    "                    # print('kkk')\n",
    "                    ENet_dic['AUC'].append(data['ENet'][0][0][3][0][0])\n",
    "                    ENet_dic['test_time(s)'].append(data['ENet'][0][0][-2][0][0])\n",
    "                if alg == 'Lasso_ROC':\n",
    "                    Lasso_dic['AUC'].append(data[alg][0][0][3][0][0])\n",
    "                    Lasso_dic['test_time(s)'].append(data[alg][0][0][-2][0][0])                "
   ]
  },
  {
   "cell_type": "code",
   "execution_count": null,
   "metadata": {},
   "outputs": [],
   "source": [
    "import pandas as pd\n",
    "\n",
    "pd.DataFrame(Prox_Remur_dic).to_excel('Prox_Remurs_1-fold.xlsx')\n",
    "pd.DataFrame(Remur_dic).to_excel('Remurs_1-fold.xlsx')\n",
    "pd.DataFrame(SURF_dic).to_excel('SURF_1-fold.xlsx')\n",
    "pd.DataFrame(ENet_dic).to_excel('ENet_1-fold.xlsx')\n",
    "pd.DataFrame(Lasso_dic).to_excel('Lasso_1-fold.xlsx')"
   ]
  },
  {
   "cell_type": "code",
   "execution_count": null,
   "metadata": {},
   "outputs": [],
   "source": [
    "loadmat(os.path.join('Group0', 'Lasso_ROC' + '.mat'))"
   ]
  },
  {
   "cell_type": "code",
   "execution_count": null,
   "metadata": {},
   "outputs": [],
   "source": [
    "# os.path.join(dir, 'Prox_ROC' + '.mat')\n",
    "dir"
   ]
  },
  {
   "cell_type": "code",
   "execution_count": null,
   "metadata": {},
   "outputs": [],
   "source": [
    "import pandas as pd\n",
    "\n",
    "pd.DataFrame(data_dir).to_excel('cv_time_onefold.xlsx')\n",
    "pd.Series(precomputation_time).to_excel('procomputation_time_onefold.xlsx', index=False)"
   ]
  }
 ],
 "metadata": {
  "kernelspec": {
   "display_name": "start",
   "language": "python",
   "name": "python3"
  },
  "language_info": {
   "codemirror_mode": {
    "name": "ipython",
    "version": 3
   },
   "file_extension": ".py",
   "mimetype": "text/x-python",
   "name": "python",
   "nbconvert_exporter": "python",
   "pygments_lexer": "ipython3",
   "version": "3.7.13"
  },
  "orig_nbformat": 4
 },
 "nbformat": 4,
 "nbformat_minor": 2
}
