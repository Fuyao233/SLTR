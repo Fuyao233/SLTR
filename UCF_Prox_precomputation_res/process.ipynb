{
 "cells": [
  {
   "cell_type": "code",
   "execution_count": 7,
   "metadata": {},
   "outputs": [],
   "source": [
    "from scipy.io import loadmat\n",
    "import numpy as np"
   ]
  },
  {
   "cell_type": "code",
   "execution_count": 8,
   "metadata": {},
   "outputs": [],
   "source": [
    "# time of precomputation. average iteration, AUC and t for best pair after cv for each epsilon \n",
    "epsilon_list = [0.01, 0.05, 0.1, 0.5, 1.0, 10.0, -1]\n",
    "group_list = np.arange(10)\n",
    "before_precoputation_time_dic = {}\n",
    "before_iteration_time_dic = {}\n",
    "after_t_dic = {}\n",
    "after_AUC_dic = {}\n",
    "\n",
    "for group in group_list:\n",
    "    before = loadmat(f'Group{group}.mat')['Res']\n",
    "    before_precoputation_time_dic[group] = before[:,0]\n",
    "    before_iteration_time_dic[group] = before[:,1] / 5\n",
    "        \n",
    "    for idx, eps in enumerate(epsilon_list):\n",
    "        after = loadmat(f'Prox_ROC_g{group}_epsilon{idx+1}.mat')['Prox_ROC']\n",
    "        if group not in after_t_dic:\n",
    "            after_t_dic[group] = [after[0][0][6][0][0]]\n",
    "            after_AUC_dic[group] = [after[0][0][3][0][0]]\n",
    "        else:\n",
    "            after_t_dic[group].append(after[0][0][6][0][0])\n",
    "            after_AUC_dic[group].append(after[0][0][3][0][0])\n"
   ]
  },
  {
   "cell_type": "code",
   "execution_count": 9,
   "metadata": {},
   "outputs": [
    {
     "data": {
      "text/plain": [
       "{0: array([0.97492526, 0.97731593, 0.9772719 , 0.97441674, 0.97574821,\n",
       "        0.97706064, 0.99177131]),\n",
       " 1: array([0.95907622, 0.95686161, 0.95742712, 0.9571817 , 0.95760087,\n",
       "        0.96020358, 0.97628334]),\n",
       " 2: array([0.95613688, 0.95401781, 0.95059008, 0.95266423, 0.95195844,\n",
       "        0.95670073, 0.97808226]),\n",
       " 3: array([0.94926979, 0.94918854, 0.94974502, 0.94862095, 0.94574681,\n",
       "        0.94625316, 0.96448607]),\n",
       " 4: array([0.95871323, 0.95624495, 0.95028586, 0.94966624, 0.95382492,\n",
       "        0.95265649, 0.97367629]),\n",
       " 5: array([0.97732161, 0.95876587, 0.95542396, 0.95565405, 0.95745492,\n",
       "        0.95700955, 0.97983935]),\n",
       " 6: array([0.95539541, 0.95605737, 0.96004995, 0.96163963, 0.96091536,\n",
       "        0.95663496, 0.97773761]),\n",
       " 7: array([0.95104831, 0.9482382 , 0.95132698, 0.94976356, 0.94781378,\n",
       "        0.95066212, 0.96128941]),\n",
       " 8: array([0.97991329, 0.97755607, 0.97400233, 0.9710791 , 0.97219181,\n",
       "        0.97480312, 0.99423791]),\n",
       " 9: array([1.01920069, 1.02618521, 1.01809987, 1.0165146 , 1.01764387,\n",
       "        1.01859355, 1.02742834])}"
      ]
     },
     "execution_count": 9,
     "metadata": {},
     "output_type": "execute_result"
    }
   ],
   "source": [
    "before_iteration_time_dic"
   ]
  },
  {
   "cell_type": "code",
   "execution_count": 10,
   "metadata": {},
   "outputs": [
    {
     "data": {
      "text/plain": [
       "0.965208"
      ]
     },
     "execution_count": 10,
     "metadata": {},
     "output_type": "execute_result"
    }
   ],
   "source": [
    "loadmat(f'Prox_ROC_g0_epsilon1.mat')['Prox_ROC'][0][0][6][0][0]"
   ]
  },
  {
   "cell_type": "code",
   "execution_count": 11,
   "metadata": {},
   "outputs": [],
   "source": [
    "# value of the largest eigenvalue for X^TX and the computation time\n",
    "\n",
    "data = loadmat('UCF101_group_epsilon_eig.mat')['group_epsilon_eig']\n",
    "data_dic = {\n",
    "    'value': [x[0][0] for x in data[0]],\n",
    "    'time': [x[0][1] for x in data[0]]\n",
    "}"
   ]
  },
  {
   "cell_type": "code",
   "execution_count": 12,
   "metadata": {},
   "outputs": [],
   "source": [
    "import pandas as pd\n",
    "group_list = np.arange(10)\n",
    "wrtier = pd.ExcelWriter('UCF_epsilon_exp.xlsx')\n",
    "pd.DataFrame(before_iteration_time_dic, index=epsilon_list).to_excel(wrtier, sheet_name='Iteration time(per fold)')\n",
    "pd.DataFrame(before_precoputation_time_dic, index=epsilon_list).to_excel(wrtier, sheet_name='Precomputation time(in CV)', index=epsilon_list)\n",
    "pd.DataFrame(after_AUC_dic, index=epsilon_list).to_excel(wrtier, sheet_name='AUC(after CV)', index=epsilon_list)\n",
    "pd.DataFrame(after_t_dic, index=epsilon_list).to_excel(wrtier, sheet_name='t(after CV)', index=epsilon_list)\n",
    "pd.DataFrame(data_dic, index=group_list).to_excel(wrtier, sheet_name='epsilon_computation')\n",
    "wrtier.save()"
   ]
  }
 ],
 "metadata": {
  "kernelspec": {
   "display_name": "start",
   "language": "python",
   "name": "python3"
  },
  "language_info": {
   "codemirror_mode": {
    "name": "ipython",
    "version": 3
   },
   "file_extension": ".py",
   "mimetype": "text/x-python",
   "name": "python",
   "nbconvert_exporter": "python",
   "pygments_lexer": "ipython3",
   "version": "3.7.13"
  },
  "orig_nbformat": 4
 },
 "nbformat": 4,
 "nbformat_minor": 2
}
