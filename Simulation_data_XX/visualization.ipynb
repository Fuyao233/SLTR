{
 "cells": [
  {
   "cell_type": "code",
   "execution_count": 2,
   "metadata": {},
   "outputs": [],
   "source": [
    "from scipy.io import loadmat\n",
    "import numpy as np\n",
    "import matplotlib.pyplot as plt"
   ]
  },
  {
   "cell_type": "code",
   "execution_count": 3,
   "metadata": {},
   "outputs": [
    {
     "name": "stdout",
     "output_type": "stream",
     "text": [
      "{'__header__': b'MATLAB 5.0 MAT-file, Platform: GLNXA64, Created on: Sun Apr 23 09:58:27 2023', '__version__': '1.0', '__globals__': [], 'mid': array([[0.109635]])}\n",
      "{'__header__': b'MATLAB 5.0 MAT-file, Platform: GLNXA64, Created on: Sun Apr 23 09:58:47 2023', '__version__': '1.0', '__globals__': [], 'mid': array([[10.184179]])}\n",
      "{'__header__': b'MATLAB 5.0 MAT-file, Platform: GLNXA64, Created on: Sun Apr 23 09:59:18 2023', '__version__': '1.0', '__globals__': [], 'mid': array([[14.985358]])}\n",
      "{'__header__': b'MATLAB 5.0 MAT-file, Platform: GLNXA64, Created on: Sun Apr 23 09:59:21 2023', '__version__': '1.0', '__globals__': [], 'mid': array([[0.39883]])}\n",
      "{'__header__': b'MATLAB 5.0 MAT-file, Platform: GLNXA64, Created on: Sun Apr 23 09:59:25 2023', '__version__': '1.0', '__globals__': [], 'mid': array([[0.730573]])}\n",
      "{'__header__': b'MATLAB 5.0 MAT-file, Platform: GLNXA64, Created on: Sun Apr 23 09:59:33 2023', '__version__': '1.0', '__globals__': [], 'mid': array([[0.73509]])}\n",
      "{'__header__': b'MATLAB 5.0 MAT-file, Platform: GLNXA64, Created on: Sun Apr 23 09:59:45 2023', '__version__': '1.0', '__globals__': [], 'mid': array([[0.807827]])}\n"
     ]
    }
   ],
   "source": [
    "group_list = np.arange(7)+1\n",
    "for i in group_list:\n",
    "    data = loadmat(f'group{i}.mat')\n",
    "    print(data)\n",
    "    # data = np.transpose(data).reshape(-1)\n",
    "    # plt.hist(data, 100, weights=np.zeros_like(data) + 1 / len(data))\n",
    "    # plt.xlabel('value')\n",
    "    # plt.ylabel('Frequency')\n",
    "    # plt.title(f'group{i}')\n",
    "    # plt.savefig(f'group{i}.png')\n",
    "    # plt.figure()"
   ]
  }
 ],
 "metadata": {
  "kernelspec": {
   "display_name": "start",
   "language": "python",
   "name": "python3"
  },
  "language_info": {
   "codemirror_mode": {
    "name": "ipython",
    "version": 3
   },
   "file_extension": ".py",
   "mimetype": "text/x-python",
   "name": "python",
   "nbconvert_exporter": "python",
   "pygments_lexer": "ipython3",
   "version": "3.7.13"
  },
  "orig_nbformat": 4
 },
 "nbformat": 4,
 "nbformat_minor": 2
}
