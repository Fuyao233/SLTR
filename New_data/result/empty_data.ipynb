{
 "cells": [
  {
   "cell_type": "code",
   "execution_count": 1,
   "metadata": {},
   "outputs": [],
   "source": [
    "import os\n",
    "# 清空\n",
    "res_list = os.listdir()\n",
    "for res in res_list:\n",
    "    if len(res.split('.')) == 1:\n",
    "        all_res = os.listdir(os.path.join(res))\n",
    "        for each_res in all_res:\n",
    "            os.remove(os.path.join(res, each_res))"
   ]
  }
 ],
 "metadata": {
  "interpreter": {
   "hash": "6b326cc51bc6b5482307af15fa495a3f410a37a9c7549a8901a8b51dc8b0c120"
  },
  "kernelspec": {
   "display_name": "Python 3.7.0 ('Assignment')",
   "language": "python",
   "name": "python3"
  },
  "language_info": {
   "codemirror_mode": {
    "name": "ipython",
    "version": 3
   },
   "file_extension": ".py",
   "mimetype": "text/x-python",
   "name": "python",
   "nbconvert_exporter": "python",
   "pygments_lexer": "ipython3",
   "version": "3.7.13"
  },
  "orig_nbformat": 4
 },
 "nbformat": 4,
 "nbformat_minor": 2
}
