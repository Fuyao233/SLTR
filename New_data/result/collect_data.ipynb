{
 "cells": [
  {
   "cell_type": "code",
   "execution_count": 1,
   "metadata": {},
   "outputs": [],
   "source": [
    "import os\n",
    "import scipy.io as scio\n",
    "import numpy as np\n",
    "import pandas as pd"
   ]
  },
  {
   "cell_type": "code",
   "execution_count": 2,
   "metadata": {},
   "outputs": [],
   "source": [
    "# 目标：整三个表，记录auc，time\n",
    "\n",
    "file_list = os.listdir()\n",
    "index_csv = ['sub' + (str(int(x)) if x>=10 else '0' + str(int(x))) for x in np.linspace(1,15,15)]\n",
    "data_auc = {\n",
    "    'ENet': [0] * 15,\n",
    "    'Lasso':[0] * 15,\n",
    "    'Prox':[0] * 15,\n",
    "    'Remur':[0] * 15,\n",
    "    'SURF':[0] * 15\n",
    "}\n",
    "\n",
    "data_t = {\n",
    "    'ENet': [0] * 15,\n",
    "    'Lasso':[0] * 15,\n",
    "    'Prox':[0] * 15,\n",
    "    'Remur':[0] * 15,\n",
    "    'SURF':[0] * 15\n",
    "}\n",
    "\n",
    "file_list = [x for x in file_list if len(x.split('.')) <= 1]\n",
    "\n",
    "for index, dir in enumerate(file_list):    \n",
    "    data_list = os.listdir(dir)\n",
    "\n",
    "    for data_path in data_list:\n",
    "        data = scio.loadmat(os.path.join(dir, data_path))\n",
    "        data = data[list(data.keys())[-1]]\n",
    "        auc = data[0][0][3][0][0]\n",
    "        t = data[0][0][6][0][0]\n",
    "        model_name = data_path.split('_')[0]\n",
    "        # print(index)\n",
    "        data_auc[model_name][index] = auc\n",
    "        data_t[model_name][index] = t\n",
    "    \n",
    "auc_csv = pd.DataFrame(data_auc, index=index_csv)\n",
    "t_csv = pd.DataFrame(data_t, index=index_csv)\n",
    "\n",
    "\n",
    "auc_csv.to_excel('AUC_downsampled_1125.xlsx')\n",
    "t_csv.to_excel('t_downsampled_1125.xlsx')"
   ]
  }
 ],
 "metadata": {
  "interpreter": {
   "hash": "2dc7b0a03ba05f39859de0b12ec4a8f1a85d7ee84966ecdae587af070a94fb9c"
  },
  "kernelspec": {
   "display_name": "Python 3.7.13 ('start')",
   "language": "python",
   "name": "python3"
  },
  "language_info": {
   "codemirror_mode": {
    "name": "ipython",
    "version": 3
   },
   "file_extension": ".py",
   "mimetype": "text/x-python",
   "name": "python",
   "nbconvert_exporter": "python",
   "pygments_lexer": "ipython3",
   "version": "3.7.13"
  },
  "orig_nbformat": 4
 },
 "nbformat": 4,
 "nbformat_minor": 2
}
