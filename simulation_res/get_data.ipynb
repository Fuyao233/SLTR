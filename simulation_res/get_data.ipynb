{
 "cells": [
  {
   "cell_type": "code",
   "execution_count": 1,
   "metadata": {},
   "outputs": [],
   "source": [
    "import os\n",
    "from scipy.io import loadmat\n",
    "\n",
    "alg_list = ['Lasso', 'Ela', 'Prox_Remur', 'Remurs', 'SURF']\n",
    "res_dic = {\n",
    "    'Lasso': {\n",
    "        'totalTime':[],\n",
    "        'totalMSE':[],\n",
    "        'totalEE':[]\n",
    "    },\n",
    "    \n",
    "    'Ela': {\n",
    "        'totalTime':[],\n",
    "        'totalMSE':[],\n",
    "        'totalEE':[]\n",
    "    },\n",
    "    \n",
    "    'Prox_Remur':{\n",
    "        'totalTime':[],\n",
    "        'totalMSE':[],\n",
    "        'totalEE':[],\n",
    "        'Precomputation in CV(s)':[],\n",
    "        'Iteration in CV(s)':[],\n",
    "        'Precomputation in test(s)':[],\n",
    "        'Iteration in test(s)':[]\n",
    "    },\n",
    "    \n",
    "    'Remurs':{\n",
    "        'totalTime':[],\n",
    "        'totalMSE':[],\n",
    "        'totalEE':[],\n",
    "        'cv_time':[],\n",
    "    },\n",
    "    \n",
    "    'SURF':{\n",
    "        'totalTime':[],\n",
    "        'totalMSE':[],\n",
    "        'totalEE':[],\n",
    "        'cv_time':[],\n",
    "    }\n",
    "}\n",
    "\n",
    "root = '3D&4D'\n",
    "for alg in alg_list:\n",
    "    data = loadmat(os.path.join(root,alg+'_res.mat'))\n",
    "    data = data[list(data.keys())[-1]][0]\n",
    "    for row in data:\n",
    "        res_dic[alg]['totalTime'].append(row[0][0][0])\n",
    "        res_dic[alg]['totalMSE'].append(row[1][0][0])\n",
    "        res_dic[alg]['totalEE'].append(row[2][0][0])\n",
    "        \n",
    "        if alg == 'SURF' or alg == 'Remurs':\n",
    "            res_dic[alg]['cv_time'].append(row[3][0][0])\n",
    "\n",
    "        if alg == 'Prox_Remur':\n",
    "            res_dic[alg]['totalTime'][-1] = row[3][0][1] + row[3][0][0]\n",
    "            res_dic[alg]['Precomputation in test(s)'].append(row[3][0][0])\n",
    "            res_dic[alg]['Iteration in test(s)'].append(row[3][0][1])\n",
    "            res_dic[alg]['Precomputation in CV(s)'].append(row[4][0][0])\n",
    "            res_dic[alg]['Iteration in CV(s)'].append(row[4][0][1])"
   ]
  },
  {
   "cell_type": "code",
   "execution_count": 2,
   "metadata": {},
   "outputs": [],
   "source": [
    "import pandas as pd \n",
    "\n",
    "pd.DataFrame(res_dic[alg_list[0]]).to_excel(os.path.join(root,'Lasso_1-fold.xlsx'))\n",
    "pd.DataFrame(res_dic[alg_list[1]]).to_excel(os.path.join(root,'ENet_1-fold.xlsx'))\n",
    "pd.DataFrame(res_dic[alg_list[2]]).to_excel(os.path.join(root,'Prox_Remurs_1-fold.xlsx'))\n",
    "pd.DataFrame(res_dic[alg_list[3]]).to_excel(os.path.join(root,'Remurs_1-fold.xlsx'))\n",
    "pd.DataFrame(res_dic[alg_list[4]]).to_excel(os.path.join(root,'SURF_1-fold.xlsx'))"
   ]
  },
  {
   "cell_type": "code",
   "execution_count": 5,
   "metadata": {},
   "outputs": [
    {
     "data": {
      "text/plain": [
       "{'totalTime': [0.0044659999999999995,\n",
       "  0.016499,\n",
       "  0.0453095,\n",
       "  0.10809650000000001,\n",
       "  0.223014,\n",
       "  0.410383,\n",
       "  0.703058],\n",
       " 'totalMSE': [9.824951864261823,\n",
       "  12.455858970735369,\n",
       "  19.703332650566566,\n",
       "  18.08674066946931,\n",
       "  16.027190628639286,\n",
       "  17.068623187371273,\n",
       "  16.853205470786506],\n",
       " 'totalEE': [1.0151244563334743,\n",
       "  0.9984288757531978,\n",
       "  1.0058619545718466,\n",
       "  1,\n",
       "  1.00370994435998,\n",
       "  0.9996225711274804,\n",
       "  1]}"
      ]
     },
     "execution_count": 5,
     "metadata": {},
     "output_type": "execute_result"
    }
   ],
   "source": [
    "res_dic[alg_list[0]]"
   ]
  }
 ],
 "metadata": {
  "kernelspec": {
   "display_name": "start",
   "language": "python",
   "name": "python3"
  },
  "language_info": {
   "codemirror_mode": {
    "name": "ipython",
    "version": 3
   },
   "file_extension": ".py",
   "mimetype": "text/x-python",
   "name": "python",
   "nbconvert_exporter": "python",
   "pygments_lexer": "ipython3",
   "version": "3.7.13"
  },
  "orig_nbformat": 4
 },
 "nbformat": 4,
 "nbformat_minor": 2
}
