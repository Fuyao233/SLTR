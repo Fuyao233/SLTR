{
 "cells": [
  {
   "cell_type": "code",
   "execution_count": 1,
   "metadata": {},
   "outputs": [],
   "source": [
    "import os\n",
    "from scipy.io import loadmat\n",
    "\n",
    "alg_list = ['Lasso', 'Ela', 'Prox_Remur', 'Remurs', 'SURF']\n",
    "res_dic = {\n",
    "    'Lasso': {\n",
    "        'totalTime':[],\n",
    "        'totalMSE':[],\n",
    "        'totalEE':[]\n",
    "    },\n",
    "    \n",
    "    'Ela': {\n",
    "        'totalTime':[],\n",
    "        'totalMSE':[],\n",
    "        'totalEE':[]\n",
    "    },\n",
    "    \n",
    "    'Prox_Remur':{\n",
    "        'totalTime':[],\n",
    "        'totalMSE':[],\n",
    "        'totalEE':[],\n",
    "        'Precomputation in CV(s)':[],\n",
    "        'Iteration in CV(s)':[],\n",
    "        'Precomputation in test(s)':[],\n",
    "        'Iteration in test(s)':[]\n",
    "    },\n",
    "    \n",
    "    'Remurs':{\n",
    "        'totalTime':[],\n",
    "        'totalMSE':[],\n",
    "        'totalEE':[],\n",
    "        'cv_time':[],\n",
    "    },\n",
    "    \n",
    "    'SURF':{\n",
    "        'totalTime':[],\n",
    "        'totalMSE':[],\n",
    "        'totalEE':[],\n",
    "        'cv_time':[],\n",
    "    }\n",
    "}\n",
    "\n",
    "root = '3D&4D'\n",
    "for alg in alg_list:\n",
    "    data = loadmat(os.path.join(root,alg+'_res.mat'))\n",
    "    data = data[list(data.keys())[-1]][0]\n",
    "    for row in data:\n",
    "        res_dic[alg]['totalTime'].append(row[0][0][0])\n",
    "        res_dic[alg]['totalMSE'].append(row[1][0][0])\n",
    "        res_dic[alg]['totalEE'].append(row[2][0][0])\n",
    "        \n",
    "        if alg == 'SURF' or alg == 'Remurs':\n",
    "            res_dic[alg]['cv_time'].append(row[3][0][0])\n",
    "\n",
    "        if alg == 'Prox_Remur':\n",
    "            res_dic[alg]['totalTime'][-1] = row[3][0][1] + row[3][0][0]\n",
    "            res_dic[alg]['Precomputation in test(s)'].append(row[3][0][0])\n",
    "            res_dic[alg]['Iteration in test(s)'].append(row[3][0][1])\n",
    "            res_dic[alg]['Precomputation in CV(s)'].append(row[4][0][0])\n",
    "            res_dic[alg]['Iteration in CV(s)'].append(row[4][0][1])"
   ]
  },
  {
   "cell_type": "code",
   "execution_count": 2,
   "metadata": {},
   "outputs": [],
   "source": [
    "import pandas as pd \n",
    "\n",
    "pd.DataFrame(res_dic[alg_list[0]]).to_excel(os.path.join(root,'Lasso_1-fold.xlsx'))\n",
    "pd.DataFrame(res_dic[alg_list[1]]).to_excel(os.path.join(root,'ENet_1-fold.xlsx'))\n",
    "pd.DataFrame(res_dic[alg_list[2]]).to_excel(os.path.join(root,'Prox_Remurs_1-fold.xlsx'))\n",
    "pd.DataFrame(res_dic[alg_list[3]]).to_excel(os.path.join(root,'Remurs_1-fold.xlsx'))\n",
    "pd.DataFrame(res_dic[alg_list[4]]).to_excel(os.path.join(root,'SURF_1-fold.xlsx'))"
   ]
  },
  {
   "cell_type": "code",
   "execution_count": 3,
   "metadata": {},
   "outputs": [
    {
     "data": {
      "text/plain": [
       "{'totalTime': [0.23014449999999997,\n",
       "  0.4112365,\n",
       "  0.7179665,\n",
       "  4.586855,\n",
       "  11.080896,\n",
       "  22.858152],\n",
       " 'totalMSE': [14.742452413151877,\n",
       "  15.936219809192469,\n",
       "  18.02641368875555,\n",
       "  18.132588604481732,\n",
       "  18.07109324612445,\n",
       "  18.0096075486087],\n",
       " 'totalEE': [1,\n",
       "  1.036236241652654,\n",
       "  1.003807513327237,\n",
       "  1.00319280406616,\n",
       "  1.0000485254515525,\n",
       "  1.0001707794745367]}"
      ]
     },
     "execution_count": 3,
     "metadata": {},
     "output_type": "execute_result"
    }
   ],
   "source": [
    "res_dic[alg_list[0]]"
   ]
  }
 ],
 "metadata": {
  "kernelspec": {
   "display_name": "start",
   "language": "python",
   "name": "python3"
  },
  "language_info": {
   "codemirror_mode": {
    "name": "ipython",
    "version": 3
   },
   "file_extension": ".py",
   "mimetype": "text/x-python",
   "name": "python",
   "nbconvert_exporter": "python",
   "pygments_lexer": "ipython3",
   "version": "3.7.13"
  },
  "orig_nbformat": 4
 },
 "nbformat": 4,
 "nbformat_minor": 2
}
