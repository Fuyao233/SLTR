{
 "cells": [
  {
   "cell_type": "code",
   "execution_count": 32,
   "metadata": {},
   "outputs": [],
   "source": [
    "from scipy.io import loadmat\n",
    "\n",
    "alg_list = ['Lasso', 'Ela', 'Prox_Remur', 'Remurs', 'SURF']\n",
    "res_dic = {\n",
    "    'Lasso': {\n",
    "        'totalTime':[],\n",
    "        'totalMSE':[],\n",
    "        'totalEE':[]\n",
    "    },\n",
    "    \n",
    "    'Ela': {\n",
    "        'totalTime':[],\n",
    "        'totalMSE':[],\n",
    "        'totalEE':[]\n",
    "    },\n",
    "    \n",
    "    'Prox_Remur':{\n",
    "        'totalTime':[],\n",
    "        'totalMSE':[],\n",
    "        'totalEE':[],\n",
    "        'Precomputation in CV(s)':[],\n",
    "        'Iteration in CV(s)':[],\n",
    "        'Precomputation in test(s)':[],\n",
    "        'Iteration in test(s)':[]\n",
    "    },\n",
    "    \n",
    "    'Remurs':{\n",
    "        'totalTime':[],\n",
    "        'totalMSE':[],\n",
    "        'totalEE':[],\n",
    "        'cv_time':[],\n",
    "    },\n",
    "    \n",
    "    'SURF':{\n",
    "        'totalTime':[],\n",
    "        'totalMSE':[],\n",
    "        'totalEE':[],\n",
    "        'cv_time':[],\n",
    "    }\n",
    "}\n",
    "\n",
    "for alg in alg_list:\n",
    "    data = loadmat(alg+'_res.mat')\n",
    "    data = data[list(data.keys())[-1]][0]\n",
    "    for row in data:\n",
    "        res_dic[alg]['totalTime'].append(row[0][0][0])\n",
    "        res_dic[alg]['totalMSE'].append(row[1][0][0])\n",
    "        res_dic[alg]['totalEE'].append(row[2][0][0])\n",
    "        \n",
    "        if alg == 'SURF' or alg == 'Remurs':\n",
    "            res_dic[alg]['cv_time'].append(row[3][0][0])\n",
    "\n",
    "        if alg == 'Prox_Remur':\n",
    "            res_dic[alg]['Precomputation in test(s)'].append(row[3][0][0])\n",
    "            res_dic[alg]['Iteration in test(s)'].append(row[3][0][1])\n",
    "            res_dic[alg]['Precomputation in CV(s)'].append(row[4][0][0])\n",
    "            res_dic[alg]['Iteration in CV(s)'].append(row[4][0][1])"
   ]
  },
  {
   "cell_type": "code",
   "execution_count": 33,
   "metadata": {},
   "outputs": [],
   "source": [
    "import pandas as pd \n",
    "\n",
    "pd.DataFrame(res_dic[alg_list[0]]).to_excel('Lasso_1-fold.xlsx')\n",
    "pd.DataFrame(res_dic[alg_list[1]]).to_excel('ENet_1-fold.xlsx')\n",
    "pd.DataFrame(res_dic[alg_list[2]]).to_excel('Prox_Remurs_1-fold.xlsx')\n",
    "pd.DataFrame(res_dic[alg_list[3]]).to_excel('Remurs_1-fold.xlsx')\n",
    "pd.DataFrame(res_dic[alg_list[4]]).to_excel('SURF_1-fold.xlsx')"
   ]
  },
  {
   "cell_type": "code",
   "execution_count": 31,
   "metadata": {},
   "outputs": [
    {
     "data": {
      "text/plain": [
       "{'totalTime': [0.0047575,\n",
       "  1.0308825578508662,\n",
       "  0.0168815,\n",
       "  1.0148975425618587,\n",
       "  0.1186325,\n",
       "  1.0614281792837972,\n",
       "  0.303065,\n",
       "  0.9990276175052133,\n",
       "  0.5938345,\n",
       "  1,\n",
       "  1.1176110000000001,\n",
       "  1.0919851045393811,\n",
       "  1.844382,\n",
       "  1],\n",
       " 'totalMSE': [21.753650991889156,\n",
       "  19.87183605684104,\n",
       "  18.625935021737348,\n",
       "  18.31565201470906,\n",
       "  17.62842649646984,\n",
       "  18.550274820017616,\n",
       "  18.49747909187019],\n",
       " 'totalEE': []}"
      ]
     },
     "execution_count": 31,
     "metadata": {},
     "output_type": "execute_result"
    }
   ],
   "source": [
    "res_dic[alg_list[0]]"
   ]
  }
 ],
 "metadata": {
  "kernelspec": {
   "display_name": "start",
   "language": "python",
   "name": "python3"
  },
  "language_info": {
   "codemirror_mode": {
    "name": "ipython",
    "version": 3
   },
   "file_extension": ".py",
   "mimetype": "text/x-python",
   "name": "python",
   "nbconvert_exporter": "python",
   "pygments_lexer": "ipython3",
   "version": "3.7.13"
  },
  "orig_nbformat": 4
 },
 "nbformat": 4,
 "nbformat_minor": 2
}
